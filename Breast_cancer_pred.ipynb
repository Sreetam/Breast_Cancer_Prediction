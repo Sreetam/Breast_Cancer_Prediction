{
 "cells": [
  {
   "cell_type": "code",
   "execution_count": 1,
   "metadata": {},
   "outputs": [],
   "source": [
    "import numpy as np\n",
    "import pandas as pd\n",
    "import matplotlib.pyplot as plt\n",
    "from sklearn.metrics import classification_report\n",
    "from sklearn.metrics import confusion_matrix\n",
    "from sklearn.metrics import accuracy_score\n",
    "from sklearn.model_selection import train_test_split\n",
    "from sklearn.model_selection import cross_val_score\n",
    "from sklearn.model_selection import KFold\n",
    "from sklearn.tree import DecisionTreeClassifier\n",
    "from sklearn.neighbors import KNeighborsClassifier\n",
    "from sklearn.naive_bayes import GaussianNB\n",
    "from sklearn.pipeline import Pipeline\n",
    "from sklearn.preprocessing import StandardScaler\n",
    "from sklearn.model_selection import GridSearchCV\n",
    "from sklearn.svm import SVC\n",
    "from sklearn.calibration import CalibratedClassifierCV\n",
    "from sklearn.ensemble import RandomForestClassifier, VotingClassifier\n",
    "from sklearn.linear_model import LogisticRegression\n",
    "from sklearn.model_selection import cross_val_score\n",
    "import time\n",
    "from matplotlib import cm as cm\n",
    "import warnings"
   ]
  },
  {
   "cell_type": "code",
   "execution_count": 2,
   "metadata": {},
   "outputs": [],
   "source": [
    "data = pd.read_csv('data.csv', index_col=False)\n",
    "data['diagnosis'] = data['diagnosis'].apply(lambda x: 1 if x == 'M' else 0)\n",
    "data = data.set_index('id')\n",
    "del data['Unnamed: 32']\n",
    "\n",
    "Y = data['diagnosis'].values\n",
    "X = data.drop('diagnosis', axis=1).values\n",
    "X_train, X_test, Y_train, Y_test = train_test_split (X, Y, test_size = 0.20, random_state=42)"
   ]
  },
  {
   "cell_type": "code",
   "execution_count": 3,
   "metadata": {},
   "outputs": [],
   "source": [
    "# group / ensemble of models \n",
    "estimator = []\n",
    "estimator.append(('ScaledLR', Pipeline([('Scaler', StandardScaler()),('LR', LogisticRegression(solver ='lbfgs', multi_class ='multinomial', max_iter = 200))])))\n",
    "#estimator.append()\n",
    "#estimator.append(('ScaledNB', Pipeline([('Scaler', StandardScaler()),('NB', GaussianNB())])))\n",
    "#estimator.append(('DTC', DecisionTreeClassifier()))\n",
    "estimator.append(('ScaledSVM', Pipeline([('Scaler', StandardScaler()),('SVM', SVC(C=2.0, kernel='rbf', probability=True))])))\n",
    "estimator.append(('ScaledKNN', Pipeline([('Scaler', StandardScaler()),('KNN', KNeighborsClassifier(n_neighbors = 11))])))\n",
    "#weight = [0.923092, 0.982456, 0.956140]"
   ]
  },
  {
   "cell_type": "code",
   "execution_count": 4,
   "metadata": {},
   "outputs": [],
   "source": [
    "weight = []\n",
    "num_folds = 10\n",
    "with warnings.catch_warnings():\n",
    "    warnings.simplefilter(\"ignore\")\n",
    "    kfold = KFold(n_splits=num_folds, shuffle=True, random_state=42)\n",
    "    for name, model in estimator:\n",
    "        cv_results = cross_val_score(model, X_train, Y_train, cv=kfold, scoring='accuracy')\n",
    "        weight.append(cv_results.mean())\n",
    "        #scores = cross_val_score(model, X_train, Y_train, cv=kfold) #####ERROR"
   ]
  },
  {
   "cell_type": "code",
   "execution_count": 5,
   "metadata": {},
   "outputs": [
    {
     "data": {
      "text/plain": [
       "[0.973719806763285, 0.973719806763285, 0.9581159420289855]"
      ]
     },
     "execution_count": 5,
     "metadata": {},
     "output_type": "execute_result"
    }
   ],
   "source": [
    "weight"
   ]
  },
  {
   "cell_type": "code",
   "execution_count": 6,
   "metadata": {},
   "outputs": [
    {
     "name": "stdout",
     "output_type": "stream",
     "text": [
      "\n",
      "Train Data: \n",
      "\n",
      "Soft Voting Score: 0.9934065934065934\n",
      "[[286   0]\n",
      " [  3 166]]\n",
      "\n",
      "Test Data: \n",
      "\n",
      "Soft Voting Score: 0.9736842105263158\n",
      "[[70  1]\n",
      " [ 2 41]]\n"
     ]
    }
   ],
   "source": [
    "# Voting Classifier with soft voting \n",
    "vot_soft = VotingClassifier(estimators = estimator, voting ='soft', weights=weight) \n",
    "vot_soft.fit(X_train, Y_train)\n",
    "\n",
    "y_pred = vot_soft.predict(X_train) \n",
    "  \n",
    "# using accuracy_score \n",
    "score = accuracy_score(Y_train, y_pred) \n",
    "print(\"\\nTrain Data: \\n\")\n",
    "print(\"Soft Voting Score: \" + str(score))\n",
    "print(confusion_matrix(Y_train, y_pred))\n",
    "\n",
    "y_pred = vot_soft.predict(X_test) \n",
    "  \n",
    "# using accuracy_score \n",
    "score = accuracy_score(Y_test, y_pred) \n",
    "print(\"\\nTest Data: \\n\")\n",
    "print(\"Soft Voting Score: \" + str(score))\n",
    "print(confusion_matrix(Y_test, y_pred))"
   ]
  },
  {
   "cell_type": "code",
   "execution_count": 9,
   "metadata": {},
   "outputs": [
    {
     "name": "stdout",
     "output_type": "stream",
     "text": [
      "\n",
      "Train Data: \n",
      "\n",
      "Soft Voting Score: 0.978021978021978\n",
      "[[278   8]\n",
      " [  2 167]]\n",
      "\n",
      "Test Data: \n",
      "\n",
      "Soft Voting Score: 0.956140350877193\n",
      "[[67  4]\n",
      " [ 1 42]]\n"
     ]
    }
   ],
   "source": [
    "threshold = 0.2 #decreasing the threshold\n",
    "y_pred = (vot_soft.predict_proba(X_train)[:,1] >= threshold).astype(bool)\n",
    "ry_pred = []\n",
    "for i in y_pred:\n",
    "    if i == True:\n",
    "        ry_pred.append(1)\n",
    "    else:\n",
    "        ry_pred.append(0)\n",
    "ry_pred = np.array(ry_pred)\n",
    "\n",
    "score = accuracy_score(Y_train, y_pred) \n",
    "print(\"\\nTrain Data: \\n\")\n",
    "print(\"Soft Voting Score: \" + str(score))\n",
    "print(confusion_matrix(Y_train, y_pred))\n",
    "\n",
    "y_pred = (vot_soft.predict_proba(X_test)[:,1] >= threshold).astype(bool)\n",
    "ry_pred = []\n",
    "for i in y_pred:\n",
    "    if i == True:\n",
    "        ry_pred.append(1)\n",
    "    else:\n",
    "        ry_pred.append(0)\n",
    "ry_pred = np. array(ry_pred)\n",
    "\n",
    "score = accuracy_score(Y_test, y_pred) \n",
    "print(\"\\nTest Data: \\n\")\n",
    "print(\"Soft Voting Score: \" + str(score))\n",
    "print(confusion_matrix(Y_test, y_pred))"
   ]
  },
  {
   "cell_type": "code",
   "execution_count": null,
   "metadata": {},
   "outputs": [],
   "source": []
  }
 ],
 "metadata": {
  "kernelspec": {
   "display_name": "Python 3",
   "language": "python",
   "name": "python3"
  },
  "language_info": {
   "codemirror_mode": {
    "name": "ipython",
    "version": 3
   },
   "file_extension": ".py",
   "mimetype": "text/x-python",
   "name": "python",
   "nbconvert_exporter": "python",
   "pygments_lexer": "ipython3",
   "version": "3.6.9"
  }
 },
 "nbformat": 4,
 "nbformat_minor": 2
}
